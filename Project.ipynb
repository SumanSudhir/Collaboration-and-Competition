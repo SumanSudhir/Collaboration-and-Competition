{
 "cells": [
  {
   "cell_type": "code",
   "execution_count": 1,
   "metadata": {},
   "outputs": [],
   "source": [
    "import numpy as np\n",
    "from unityagents import UnityEnvironment\n",
    "import random\n",
    "from collections import namedtuple, deque\n",
    "\n",
    "import torch\n",
    "import torch.nn as nn\n",
    "import torch.nn.functional as F\n",
    "import torch.optim as optim\n"
   ]
  },
  {
   "cell_type": "code",
   "execution_count": 2,
   "metadata": {},
   "outputs": [
    {
     "name": "stderr",
     "output_type": "stream",
     "text": [
      "INFO:unityagents:\n",
      "'Academy' started successfully!\n",
      "Unity Academy name: Academy\n",
      "        Number of Brains: 1\n",
      "        Number of External Brains : 1\n",
      "        Lesson number : 0\n",
      "        Reset Parameters :\n",
      "\t\t\n",
      "Unity brain name: TennisBrain\n",
      "        Number of Visual Observations (per agent): 0\n",
      "        Vector Observation space type: continuous\n",
      "        Vector Observation space size (per agent): 8\n",
      "        Number of stacked Vector Observation: 3\n",
      "        Vector Action space type: continuous\n",
      "        Vector Action space size (per agent): 2\n",
      "        Vector Action descriptions: , \n"
     ]
    }
   ],
   "source": [
    "env = UnityEnvironment(file_name='./Tennis_Linux_NoVis/Tennis.x86_64')"
   ]
  },
  {
   "cell_type": "code",
   "execution_count": 3,
   "metadata": {},
   "outputs": [],
   "source": [
    "brain_name = env.brain_names[0]\n",
    "brain = env.brains[brain_name]"
   ]
  },
  {
   "cell_type": "markdown",
   "metadata": {},
   "source": [
    "# 2. Examine the State and Action Spaces\n",
    "In this environment, two agents control rackets to bounce a ball over a net. If an agent hits the ball over the net, it receives a reward of +0.1. If an agent lets a ball hit the ground or hits the ball out of bounds, it receives a reward of -0.01. Thus, the goal of each agent is to keep the ball in play.\n",
    "\n",
    "The observation space consists of 8 variables corresponding to the position and velocity of the ball and racket. Two continuous actions are available, corresponding to movement toward (or away from) the net, and jumping.\n",
    "\n",
    "Run the code cell below to print some information about the environment."
   ]
  },
  {
   "cell_type": "code",
   "execution_count": 4,
   "metadata": {},
   "outputs": [
    {
     "name": "stdout",
     "output_type": "stream",
     "text": [
      "Number of agents: 2\n",
      "Size of each action: 2\n",
      "There are 2 agents. Each observes a state with length: 24\n",
      "So this environment has total 48 state and The state for the both agents looks like: \n",
      " [[ 0.          0.          0.          0.          0.          0.\n",
      "   0.          0.          0.          0.          0.          0.\n",
      "   0.          0.          0.          0.         -6.65278625 -1.5\n",
      "  -0.          0.          6.83172083  6.         -0.          0.        ]\n",
      " [ 0.          0.          0.          0.          0.          0.\n",
      "   0.          0.          0.          0.          0.          0.\n",
      "   0.          0.          0.          0.         -6.4669857  -1.5\n",
      "   0.          0.         -6.83172083  6.          0.          0.        ]]\n"
     ]
    }
   ],
   "source": [
    "# reset the environment\n",
    "env_info = env.reset(train_mode=True)[brain_name]\n",
    "\n",
    "# number of agents\n",
    "num_agents = len(env_info.agents)\n",
    "print('Number of agents:', num_agents)\n",
    "\n",
    "# size of each action\n",
    "action_size = brain.vector_action_space_size\n",
    "print('Size of each action:', action_size)\n",
    "\n",
    "# examine the state space \n",
    "states = env_info.vector_observations\n",
    "state_size = states.shape[1]\n",
    "print('There are {} agents. Each observes a state with length: {}'.format(states.shape[0], state_size))\n",
    "#print('The state for the first agent looks like:', states[0])\n",
    "print('So this environment has total 48 state and The state for the both agents looks like: \\n {}'.format(env_info.vector_observations))"
   ]
  },
  {
   "cell_type": "markdown",
   "metadata": {},
   "source": [
    "# 3. Importing Agent and setting hyperparameters"
   ]
  },
  {
   "cell_type": "code",
   "execution_count": 5,
   "metadata": {},
   "outputs": [],
   "source": [
    "# state_size (int): dimension of each state\n",
    "# action_size (int): dimension of each action\n",
    "# random_seed (int): random seed\n",
    "# BATCH_SIZE (int): mini batch size\n",
    "# BUFFER_SIZE (int): experience storing lenght, keep it as high as possible\n",
    "# discount_factor (float): discount factor for calculating Q_target\n",
    "# tau (float): interpolation parameter for updating target network\n",
    "# noise_coefficient_start (float): value to be multiplied to OUNoise sample\n",
    "# noise_coefficient_decay (float): exponential decay factor for value to be multiplied to OUNoise sample\n",
    "# LR_ACTOR (float): learning rate for actor network\n",
    "# LR_CRITIC (float): learning rate for critic network\n",
    "# WEIGHT_DECAY (float): Weight decay for critic network optimizer\n",
    "\n",
    "# state_size = 24\n",
    "# action_size = 2\n",
    "# random_seed = 0\n",
    "# BATCH_SIZE = 128        \n",
    "# BUFFER_SIZE = int(1e6)  \n",
    "# discount_factor = 0.99     \n",
    "# tau = 8e-2       \n",
    "# noise_coefficient_start = 20\n",
    "# noise_coefficient_decay = 250\n",
    "# LR_ACTOR = 1e-3      \n",
    "# LR_CRITIC = 1e-3        \n",
    "# WEIGHT_DECAY = 1e-6      \n",
    "# ADD_NOISE = True"
   ]
  },
  {
   "cell_type": "code",
   "execution_count": 6,
   "metadata": {},
   "outputs": [],
   "source": [
    "from agent import Agent"
   ]
  },
  {
   "cell_type": "code",
   "execution_count": 7,
   "metadata": {},
   "outputs": [
    {
     "name": "stdout",
     "output_type": "stream",
     "text": [
      "cuda:0\n",
      "cuda:0\n"
     ]
    }
   ],
   "source": [
    "state_size = 24\n",
    "action_size = 2\n",
    "random_seed = 0\n",
    "BATCH_SIZE = 128        \n",
    "BUFFER_SIZE = int(1e6)  \n",
    "discount_factor = 0.99     \n",
    "tau = 8e-2       \n",
    "noise_coefficient_start = 20\n",
    "noise_coefficient_decay = 250\n",
    "LR_ACTOR = 1e-3      \n",
    "LR_CRITIC = 1e-3        \n",
    "WEIGHT_DECAY = 1e-6      \n",
    "ADD_NOISE = True\n",
    "np.random.seed(random_seed)\n",
    "random.seed(random_seed)\n",
    "torch.manual_seed(random_seed)\n",
    "agent_0 = Agent(state_size, action_size, BATCH_SIZE, BUFFER_SIZE, discount_factor, tau, noise_coefficient_start, noise_coefficient_decay, LR_ACTOR, LR_CRITIC, WEIGHT_DECAY)\n",
    "agent_1 = Agent(state_size, action_size, BATCH_SIZE, BUFFER_SIZE, discount_factor, tau, noise_coefficient_start, noise_coefficient_decay, LR_ACTOR, LR_CRITIC, WEIGHT_DECAY)"
   ]
  },
  {
   "cell_type": "markdown",
   "metadata": {},
   "source": [
    "# Training"
   ]
  },
  {
   "cell_type": "code",
   "execution_count": 8,
   "metadata": {
    "scrolled": true
   },
   "outputs": [
    {
     "name": "stdout",
     "output_type": "stream",
     "text": [
      "Episode 10\tAverage Reward: 0.000\n",
      "Episode 20\tAverage Reward: 0.005\n",
      "Episode 30\tAverage Reward: 0.003\n",
      "Episode 40\tAverage Reward: 0.008\n",
      "Episode 50\tAverage Reward: 0.008\n",
      "Episode 60\tAverage Reward: 0.008\n",
      "Episode 70\tAverage Reward: 0.007\n",
      "Episode 80\tAverage Reward: 0.007\n",
      "Episode 90\tAverage Reward: 0.007\n",
      "Episode 100\tAverage Reward: 0.008\n",
      "Episode 110\tAverage Reward: 0.008\n",
      "Episode 120\tAverage Reward: 0.008\n",
      "Episode 130\tAverage Reward: 0.009\n",
      "Episode 140\tAverage Reward: 0.009\n",
      "Episode 150\tAverage Reward: 0.009\n",
      "Episode 160\tAverage Reward: 0.009\n",
      "Episode 170\tAverage Reward: 0.011\n",
      "Episode 180\tAverage Reward: 0.011\n",
      "Episode 190\tAverage Reward: 0.014\n",
      "Episode 200\tAverage Reward: 0.012\n",
      "Episode 210\tAverage Reward: 0.015\n",
      "Episode 220\tAverage Reward: 0.016\n",
      "Episode 230\tAverage Reward: 0.017\n",
      "Episode 240\tAverage Reward: 0.018\n",
      "Episode 250\tAverage Reward: 0.019\n",
      "Episode 260\tAverage Reward: 0.022\n",
      "Episode 270\tAverage Reward: 0.026\n",
      "Episode 280\tAverage Reward: 0.033\n",
      "Episode 290\tAverage Reward: 0.037\n",
      "Episode 300\tAverage Reward: 0.046\n",
      "Episode 310\tAverage Reward: 0.053\n",
      "Episode 320\tAverage Reward: 0.062\n",
      "Episode 330\tAverage Reward: 0.066\n",
      "Episode 340\tAverage Reward: 0.074\n",
      "Episode 350\tAverage Reward: 0.080\n",
      "Episode 360\tAverage Reward: 0.085\n",
      "Episode 370\tAverage Reward: 0.098\n",
      "Episode 380\tAverage Reward: 0.106\n",
      "Episode 390\tAverage Reward: 0.107\n",
      "Episode 400\tAverage Reward: 0.108\n",
      "Episode 410\tAverage Reward: 0.108\n",
      "Episode 420\tAverage Reward: 0.107\n",
      "Episode 430\tAverage Reward: 0.112\n",
      "Episode 440\tAverage Reward: 0.121\n",
      "Episode 450\tAverage Reward: 0.153\n",
      "Episode 460\tAverage Reward: 0.168\n",
      "Episode 470\tAverage Reward: 0.212\n",
      "Episode 480\tAverage Reward: 0.287\n",
      "Episode 490\tAverage Reward: 0.363\n",
      "Episode 500\tAverage Reward: 0.450\n",
      "Episode 510\tAverage Reward: 0.481\n",
      "Episode 520\tAverage Reward: 0.498\n",
      "\n",
      "Environment solved in 422 episodes!\tAverage Score: 0.505\n"
     ]
    }
   ],
   "source": [
    "n_episodes = 1000\n",
    "scores_window = deque(maxlen=100)\n",
    "scores_all = []\n",
    "rolling_average = []\n",
    "import os\n",
    "if not os.path.isdir('model'):\n",
    "    os.mkdir('model')\n",
    "    \n",
    "for i_episode in range(1, n_episodes+1):\n",
    "    env_info = env.reset(train_mode=True)[brain_name]      # reset the environment    \n",
    "    states = env_info.vector_observations\n",
    "    states = np.reshape(states, (1,48))\n",
    "    agent_0.reset()                                        # reset Ornstein-Uhlenbeck noise\n",
    "    agent_1.reset()\n",
    "    scores = np.zeros(num_agents)\n",
    "    while True:\n",
    "        action_0 = agent_0.act(states, ADD_NOISE)           # agent 1 chooses an action\n",
    "        action_1 = agent_1.act(states, ADD_NOISE)           # agent 2 chooses an action\n",
    "        actions = np.concatenate((action_0, action_1), axis=0) \n",
    "        actions = np.reshape(actions, (1, 4))\n",
    "        env_info = env.step(actions)[brain_name]           # send both agents' actions together to the environment\n",
    "        next_states = env_info.vector_observations         # get next states\n",
    "        next_states = np.reshape(next_states, (1, 48))     # combine each agent's state into one state space\n",
    "        rewards = env_info.rewards                         # get reward\n",
    "        done = env_info.local_done                         # see if episode finished\n",
    "\n",
    "        agent_0.step(states, actions, rewards[0], next_states, done, 0) # agent 1 learns\n",
    "        agent_1.step(states, actions, rewards[1], next_states, done, 1) # agent 2 learns\n",
    "        scores += rewards                                  # update the score for each agent\n",
    "        states = next_states                               # roll over states to next time step\n",
    "\n",
    "        if np.any(done):                                  # exit loop if episode finished\n",
    "            break\n",
    "\n",
    "    scores_window.append(np.max(scores))\n",
    "    scores_all.append(np.max(scores))\n",
    "    rolling_average.append(np.mean(scores_window))\n",
    "                \n",
    "    if i_episode % 10 == 0:\n",
    "        print('Episode {}\\tAverage Reward: {:.3f}'.format(\n",
    "            i_episode, np.mean(scores_window)))\n",
    "\n",
    "    if np.mean(scores_window)>=0.5:\n",
    "        print('\\nEnvironment solved in {:d} episodes!\\tAverage Score: {:.3f}'.format(\n",
    "            i_episode-100, np.mean(scores_window)))\n",
    "        torch.save(agent_0.actor_local.state_dict(), 'model/checkpoint_actor_0.pth')\n",
    "        torch.save(agent_0.critic_local.state_dict(), 'model/checkpoint_critic_0.pth')\n",
    "        torch.save(agent_1.actor_local.state_dict(), 'model/checkpoint_actor_1.pth')\n",
    "        torch.save(agent_1.critic_local.state_dict(), 'model/checkpoint_critic_1.pth')\n",
    "        break"
   ]
  },
  {
   "cell_type": "markdown",
   "metadata": {},
   "source": [
    "# Visualizing"
   ]
  },
  {
   "cell_type": "code",
   "execution_count": 9,
   "metadata": {},
   "outputs": [
    {
     "data": {
      "image/png": "[encoded data removed]",
      "text/plain": [
       "<Figure size 432x288 with 1 Axes>"
      ]
     },
     "metadata": {
      "needs_background": "light"
     },
     "output_type": "display_data"
    }
   ],
   "source": [
    "import matplotlib.pyplot as plt\n",
    "fig = plt.figure()\n",
    "ax = fig.add_subplot(111)\n",
    "plt.plot(np.arange(1, len(scores_all)+1), scores_all)\n",
    "plt.plot(np.arange(1, len(rolling_average)+1), rolling_average)\n",
    "plt.ylabel('Score')\n",
    "plt.xlabel('Episode #')\n",
    "plt.savefig('score.png')\n",
    "plt.show()\n"
   ]
  },
  {
   "cell_type": "code",
   "execution_count": null,
   "metadata": {},
   "outputs": [],
   "source": []
  },
  {
   "cell_type": "markdown",
   "metadata": {},
   "source": [
    "# Testing "
   ]
  },
  {
   "cell_type": "code",
   "execution_count": null,
   "metadata": {},
   "outputs": [],
   "source": [
    "env = UnityEnvironment(file_name='./Tennis_Linux/Tennis.x86_64')\n",
    "brain_name = env.brain_names[0]\n",
    "brain = env.brains[brain_name]"
   ]
  },
  {
   "cell_type": "code",
   "execution_count": 10,
   "metadata": {},
   "outputs": [],
   "source": [
    "#Load the saved training parameters\n",
    "agent_0.actor_local.load_state_dict(torch.load('model/checkpoint_actor_0.pth', map_location='cpu'))\n",
    "agent_0.critic_local.load_state_dict(torch.load('model/checkpoint_critic_0.pth', map_location='cpu'))\n",
    "agent_1.actor_local.load_state_dict(torch.load('model/checkpoint_actor_1.pth', map_location='cpu'))\n",
    "agent_1.critic_local.load_state_dict(torch.load('model/checkpoint_critic_1.pth', map_location='cpu'))\n",
    "\n",
    "# Set environment to evalulation mode\n",
    "env_info = env.reset(train_mode=False)[brain_name]        \n",
    "states = env_info.vector_observations                  \n",
    "states = np.reshape(states, (1,48))\n",
    "\n",
    "for i in range(200):\n",
    "    action_0 = agent_0.act(states, add_noise=False)         \n",
    "    action_1 = agent_1.act(states, add_noise=False)        \n",
    "    actions = np.concatenate((action_0, action_1), axis=0) \n",
    "    actions = np.reshape(actions, (1, 4))\n",
    "    env_info = env.step(actions)[brain_name]        \n",
    "    next_states = env_info.vector_observations        \n",
    "    next_states = np.reshape(next_states, (1, 48))\n",
    "    rewards = env_info.rewards                        \n",
    "    dones = env_info.local_done                 \n",
    "    states = next_states                              \n",
    "    if np.any(dones):                              \n",
    "        break"
   ]
  },
  {
   "cell_type": "code",
   "execution_count": null,
   "metadata": {},
   "outputs": [],
   "source": []
  }
 ],
 "metadata": {
  "kernelspec": {
   "display_name": "drlnd",
   "language": "python",
   "name": "drlnd"
  },
  "language_info": {
   "codemirror_mode": {
    "name": "ipython",
    "version": 3
   },
   "file_extension": ".py",
   "mimetype": "text/x-python",
   "name": "python",
   "nbconvert_exporter": "python",
   "pygments_lexer": "ipython3",
   "version": "3.6.9"
  }
 },
 "nbformat": 4,
 "nbformat_minor": 4
}
